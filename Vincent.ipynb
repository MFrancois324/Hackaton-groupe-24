{
 "cells": [
  {
   "cell_type": "code",
   "execution_count": null,
   "id": "5641b513-61ca-4ccb-9962-62c386b2be13",
   "metadata": {},
   "outputs": [
    {
     "name": "stdout",
     "output_type": "stream",
     "text": [
      "|.....|\n",
      "|.....|\n",
      "|.....|\n",
      "|.....|\n",
      "|.....|\n",
      "|.....|\n"
     ]
    }
   ],
   "source": [
    "#Vincent\n",
    "import numpy as np\n",
    "\n",
    "\n",
    "# Fonction d'affichage \n",
    "def affiche(matrix): \n",
    "    for row in matrix:\n",
    "        print(\"\".join(row))  # Joint les éléments de la ligne en une seule chaîne\n",
    "\n"
   ]
  }
 ],
 "metadata": {
  "kernelspec": {
   "display_name": "base",
   "language": "python",
   "name": "python3"
  },
  "language_info": {
   "codemirror_mode": {
    "name": "ipython",
    "version": 3
   },
   "file_extension": ".py",
   "mimetype": "text/x-python",
   "name": "python",
   "nbconvert_exporter": "python",
   "pygments_lexer": "ipython3",
   "version": "3.12.4"
  }
 },
 "nbformat": 4,
 "nbformat_minor": 5
}
