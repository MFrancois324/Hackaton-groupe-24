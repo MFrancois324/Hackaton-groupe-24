{
 "cells": [
  {
   "cell_type": "code",
   "execution_count": null,
   "id": "6db4d787-e745-4670-b2c6-56bf5c3c68ba",
   "metadata": {},
   "outputs": [],
   "source": [
    "#Milan\n"
   ]
  }
 ],
 "metadata": {
  "kernelspec": {
   "display_name": "Python 3 (ipykernel)",
   "language": "python",
   "name": "python3"
  },
  "language_info": {
   "codemirror_mode": {
    "name": "ipython",
    "version": 3
   },
   "file_extension": ".py",
   "mimetype": "text/x-python",
   "name": "python",
   "nbconvert_exporter": "python",
   "pygments_lexer": "ipython3",
   "version": "3.12.4"
  }
 },
 "nbformat": 4,
 "nbformat_minor": 5
}
