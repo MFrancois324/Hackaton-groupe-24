{
 "cells": [
  {
   "cell_type": "code",
   "execution_count": 6,
   "id": "6db4d787-e745-4670-b2c6-56bf5c3c68ba",
   "metadata": {},
   "outputs": [],
   "source": [
    "#Milan\n",
    "import numpy as np\n",
    "import pandas as pd\n",
    "import matplotlib.pyplot as plt"
   ]
  },
  {
   "cell_type": "code",
   "execution_count": 7,
   "id": "7b36fafa-f51e-47ec-ad27-ce7c44635e84",
   "metadata": {},
   "outputs": [],
   "source": [
    "H=10\n",
    "W=10\n",
    "pos=(0,0)"
   ]
  },
  {
   "cell_type": "code",
   "execution_count": 8,
   "id": "a268b97b",
   "metadata": {},
   "outputs": [],
   "source": [
    "def check(pos):\n",
    "    x,y=pos[0],pos[1]\n",
    "    return x>=0 and x<W and y>=0 and y<H"
   ]
  },
  {
   "cell_type": "code",
   "execution_count": 9,
   "id": "0dfa6839",
   "metadata": {},
   "outputs": [],
   "source": [
    "def pos_possible(pos,plateau):\n",
    "    autorisé=['.','#','+','=']\n",
    "    interdit=['|','-','@']\n",
    "    \n",
    "    return"
   ]
  }
 ],
 "metadata": {
  "kernelspec": {
   "display_name": "base",
   "language": "python",
   "name": "python3"
  },
  "language_info": {
   "codemirror_mode": {
    "name": "ipython",
    "version": 3
   },
   "file_extension": ".py",
   "mimetype": "text/x-python",
   "name": "python",
   "nbconvert_exporter": "python",
   "pygments_lexer": "ipython3",
   "version": "3.12.4"
  }
 },
 "nbformat": 4,
 "nbformat_minor": 5
}
