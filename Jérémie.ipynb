{
 "cells": [
  {
   "cell_type": "code",
   "execution_count": null,
   "id": "ce9134a9-93d1-44a6-bd73-7fe2c0e39088",
   "metadata": {},
   "outputs": [],
   "source": [
    "#Jeremie"
   ]
  }
 ],
 "metadata": {
  "kernelspec": {
   "display_name": "Python 3 (ipykernel)",
   "language": "python",
   "name": "python3"
  },
  "language_info": {
   "codemirror_mode": {
    "name": "ipython",
    "version": 3
   },
   "file_extension": ".py",
   "mimetype": "text/x-python",
   "name": "python",
   "nbconvert_exporter": "python",
   "pygments_lexer": "ipython3",
   "version": "3.12.4"
  }
 },
 "nbformat": 4,
 "nbformat_minor": 5
}
